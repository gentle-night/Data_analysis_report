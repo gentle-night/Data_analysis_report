{
 "cells": [
  {
   "cell_type": "markdown",
   "id": "cf3dd8fa",
   "metadata": {},
   "source": [
    "## 基于AB测试的支付宝营销效果分析\n",
    "案例说明：  \n",
    "1.数据来源：\n",
    "本文所用的数据集来源于阿里云天池：https://tianchi.aliyun.com/dataset/dataDetail?dataId=50893&lang=zh-cn\n",
    "\n",
    "该数据集包含三张表(数据量100万)，分别记录了支付宝两组营销的活动情况：\n",
    "\n",
    "emb_tb_2.csv: 用户特征数据集   \n",
    "effect_tb.csv: 广告点击情况数据集  \n",
    "seed_cand_tb.csv: 用户类型数据集  \n",
    "本分析报告的主要使用广告点击情况数据，涉及字段如下：\n",
    "\n",
    "dmp_id：营销策略编号（源数据文档未作说明，这里根据数据情况设定为1：对照组，2：营销策略一，3：营销策略二）  \n",
    "user_id：支付宝用户ID  \n",
    "label：用户当天是否点击活动广告（0：未点击，1：点击）\n",
    "\n",
    "2.分析目的：分析不同营销策略的效果提升情况"
   ]
  },
  {
   "cell_type": "markdown",
   "id": "c75aae15",
   "metadata": {},
   "source": [
    "## 一、明确AB测试分析流程\n",
    "（1）分析业务数据，确定实验指标   \n",
    "（2）建立实验假设   \n",
    "（3）选取样本  \n",
    "（4）确定核心指标提升的阈值  \n",
    "（5）确定样本量  \n",
    "（6）分配流量、确定实验时长  \n",
    "（7）采集数据，进行分析。 "
   ]
  },
  {
   "cell_type": "markdown",
   "id": "6e7b4dce",
   "metadata": {},
   "source": [
    "### （1）分析业务数据，确定实验指标\n",
    "该案例由于数据限制，仅包含营销策略选择和用户是否参加活动广告。所以以：是否点击活动广告作为实验指标。\n",
    "\n",
    "为衡量用户的点击情况，构建点击率指标，即：P=点击用户数/当天登录用户数.   \n",
    "\n",
    "此外P0表示对照组的点击率,P1表示策略一的点击率,P2表示策略二的点击率"
   ]
  },
  {
   "cell_type": "markdown",
   "id": "c19ca759",
   "metadata": {},
   "source": [
    "### （2）建立实验假设 \n",
    "营销策略一：  \n",
    "H0:营销策略一对用户点击有显著提升，即p1>=p0  \n",
    "H1:营销策略一对用户点击没有显著提升，即p1<p0\n",
    "\n",
    "营销策略二：                             \n",
    "H0:营销策略二对用户点击有显著提升，即p2>=p0  \n",
    "H1:营销策略二对用户点击没有显著提升，即p2<p0\n",
    "                          "
   ]
  },
  {
   "cell_type": "markdown",
   "id": "97e3e25d",
   "metadata": {},
   "source": [
    "### （3）选取样本\n",
    "\n",
    "选取活动范围的登录的用户数"
   ]
  },
  {
   "cell_type": "markdown",
   "id": "67dc7361",
   "metadata": {},
   "source": [
    "### （4）确定核心指标提升的阈值\n",
    "\n",
    "假设，根据业务需求提出，需要点击率提升1%"
   ]
  },
  {
   "cell_type": "markdown",
   "id": "04cb39e2",
   "metadata": {},
   "source": [
    "### （5）确定样本量\n",
    "假定显著性水平为0.05，检验功效为0.8，分布满足正态分布时情况下计算最小样本量：   \n",
    "\n",
    "同时，假设往期用户的平均点击率为1.5%，想通过这次的活动将点击率提升1%，即将从1.5%提升到2.5%，那么通过如下计算可以计算出最小样本量为3029."
   ]
  },
  {
   "cell_type": "code",
   "execution_count": 1,
   "id": "71048bac",
   "metadata": {},
   "outputs": [
    {
     "data": {
      "text/plain": [
       "3028.537801878027"
      ]
     },
     "execution_count": 1,
     "metadata": {},
     "output_type": "execute_result"
    }
   ],
   "source": [
    "from statsmodels.stats.power import GofChisquarePower\n",
    "from statsmodels.stats.power import zt_ind_solve_power\n",
    "from statsmodels.stats.proportion import proportion_effectsize as es\n",
    "\n",
    "#定显著性水平为0.05，检验功效为0.8，效应量为标准均差计算方式，实验组和对照组数量相等，双边检验。\n",
    "zt_ind_solve_power(effect_size=es(prop1=0.015, prop2=0.025, method= 'normal'),\n",
    "                   alpha=0.05, power=0.8, ratio=1.0, alternative=\"two-sided\")\n"
   ]
  },
  {
   "cell_type": "markdown",
   "id": "ea4d1e48",
   "metadata": {},
   "source": [
    "### （6）分配流量、确定实验时长\n",
    "正常的流程，此时应该根据业务的实际情况，分配流量，并且计算实验的时长。   \n",
    "例如，根据最小样本为3028，那么我们为了保证数据的有效性，选择获取的样本量为4000；    \n",
    "然后根据业务中采取数据流量的速度，来计算我们实验的时长。即，如果每天只能获取1000的数据，那么我们就需要获取4天的数据。   "
   ]
  },
  {
   "cell_type": "markdown",
   "id": "9112eba4",
   "metadata": {},
   "source": [
    "### （7）采集数据，进行分析。\n",
    "假设，由阿里云的提供的数据为我们实际采集的数据，并以此进行测试分析。"
   ]
  },
  {
   "cell_type": "markdown",
   "id": "fc30d4a6",
   "metadata": {},
   "source": [
    "## 二、AB测试分析"
   ]
  },
  {
   "cell_type": "markdown",
   "id": "2197c002",
   "metadata": {},
   "source": [
    "#### 1.数据处理\n",
    "主要包含：数据导入与清洗"
   ]
  },
  {
   "cell_type": "code",
   "execution_count": 2,
   "id": "e453fb38",
   "metadata": {},
   "outputs": [],
   "source": [
    "#（1）数据导入：\n",
    "import pandas as pd\n",
    "import numpy as np\n",
    "import matplotlib.pyplot as plt\n",
    "%matplotlib inline"
   ]
  },
  {
   "cell_type": "code",
   "execution_count": 3,
   "id": "93a00d22",
   "metadata": {},
   "outputs": [
    {
     "data": {
      "text/html": [
       "<div>\n",
       "<style scoped>\n",
       "    .dataframe tbody tr th:only-of-type {\n",
       "        vertical-align: middle;\n",
       "    }\n",
       "\n",
       "    .dataframe tbody tr th {\n",
       "        vertical-align: top;\n",
       "    }\n",
       "\n",
       "    .dataframe thead th {\n",
       "        text-align: right;\n",
       "    }\n",
       "</style>\n",
       "<table border=\"1\" class=\"dataframe\">\n",
       "  <thead>\n",
       "    <tr style=\"text-align: right;\">\n",
       "      <th></th>\n",
       "      <th>user_id</th>\n",
       "      <th>label</th>\n",
       "      <th>dmp_id</th>\n",
       "    </tr>\n",
       "  </thead>\n",
       "  <tbody>\n",
       "    <tr>\n",
       "      <th>0</th>\n",
       "      <td>1</td>\n",
       "      <td>0</td>\n",
       "      <td>1</td>\n",
       "    </tr>\n",
       "    <tr>\n",
       "      <th>1</th>\n",
       "      <td>1000004</td>\n",
       "      <td>0</td>\n",
       "      <td>1</td>\n",
       "    </tr>\n",
       "    <tr>\n",
       "      <th>2</th>\n",
       "      <td>1000004</td>\n",
       "      <td>0</td>\n",
       "      <td>2</td>\n",
       "    </tr>\n",
       "  </tbody>\n",
       "</table>\n",
       "</div>"
      ],
      "text/plain": [
       "   user_id  label  dmp_id\n",
       "0        1      0       1\n",
       "1  1000004      0       1\n",
       "2  1000004      0       2"
      ]
     },
     "execution_count": 3,
     "metadata": {},
     "output_type": "execute_result"
    }
   ],
   "source": [
    "data = pd.read_csv('effect_tb.csv',header = None)\n",
    "data.columns = ['dt','user_id','label','dmp_id']\n",
    "\n",
    "# 日志天数,由于这里缺乏活动的日期范围，这里假设所给数据均为活动时的数据。\n",
    "data = data.drop(columns='dt')\n",
    "data.head(3)"
   ]
  },
  {
   "cell_type": "code",
   "execution_count": 4,
   "id": "4f5e5b5b",
   "metadata": {},
   "outputs": [
    {
     "name": "stdout",
     "output_type": "stream",
     "text": [
      "<class 'pandas.core.frame.DataFrame'>\n",
      "RangeIndex: 2645958 entries, 0 to 2645957\n",
      "Data columns (total 3 columns):\n",
      " #   Column   Non-Null Count    Dtype\n",
      "---  ------   --------------    -----\n",
      " 0   user_id  2645958 non-null  int64\n",
      " 1   label    2645958 non-null  int64\n",
      " 2   dmp_id   2645958 non-null  int64\n",
      "dtypes: int64(3)\n",
      "memory usage: 60.6 MB\n"
     ]
    }
   ],
   "source": [
    "#（2）数据的基本情况：数据类型\n",
    "data.info(show_counts = True)"
   ]
  },
  {
   "cell_type": "code",
   "execution_count": 5,
   "id": "52ca0a40",
   "metadata": {},
   "outputs": [
    {
     "data": {
      "text/html": [
       "<div>\n",
       "<style scoped>\n",
       "    .dataframe tbody tr th:only-of-type {\n",
       "        vertical-align: middle;\n",
       "    }\n",
       "\n",
       "    .dataframe tbody tr th {\n",
       "        vertical-align: top;\n",
       "    }\n",
       "\n",
       "    .dataframe thead th {\n",
       "        text-align: right;\n",
       "    }\n",
       "</style>\n",
       "<table border=\"1\" class=\"dataframe\">\n",
       "  <thead>\n",
       "    <tr style=\"text-align: right;\">\n",
       "      <th></th>\n",
       "      <th>user_id</th>\n",
       "      <th>label</th>\n",
       "      <th>dmp_id</th>\n",
       "    </tr>\n",
       "  </thead>\n",
       "  <tbody>\n",
       "    <tr>\n",
       "      <th>count</th>\n",
       "      <td>2.645958e+06</td>\n",
       "      <td>2.645958e+06</td>\n",
       "      <td>2.645958e+06</td>\n",
       "    </tr>\n",
       "    <tr>\n",
       "      <th>mean</th>\n",
       "      <td>3.112995e+06</td>\n",
       "      <td>1.456297e-02</td>\n",
       "      <td>1.395761e+00</td>\n",
       "    </tr>\n",
       "    <tr>\n",
       "      <th>std</th>\n",
       "      <td>1.828262e+06</td>\n",
       "      <td>1.197952e-01</td>\n",
       "      <td>6.920480e-01</td>\n",
       "    </tr>\n",
       "    <tr>\n",
       "      <th>min</th>\n",
       "      <td>1.000000e+00</td>\n",
       "      <td>0.000000e+00</td>\n",
       "      <td>1.000000e+00</td>\n",
       "    </tr>\n",
       "    <tr>\n",
       "      <th>25%</th>\n",
       "      <td>1.526772e+06</td>\n",
       "      <td>0.000000e+00</td>\n",
       "      <td>1.000000e+00</td>\n",
       "    </tr>\n",
       "    <tr>\n",
       "      <th>50%</th>\n",
       "      <td>3.062184e+06</td>\n",
       "      <td>0.000000e+00</td>\n",
       "      <td>1.000000e+00</td>\n",
       "    </tr>\n",
       "    <tr>\n",
       "      <th>75%</th>\n",
       "      <td>4.721132e+06</td>\n",
       "      <td>0.000000e+00</td>\n",
       "      <td>2.000000e+00</td>\n",
       "    </tr>\n",
       "    <tr>\n",
       "      <th>max</th>\n",
       "      <td>6.265402e+06</td>\n",
       "      <td>1.000000e+00</td>\n",
       "      <td>3.000000e+00</td>\n",
       "    </tr>\n",
       "  </tbody>\n",
       "</table>\n",
       "</div>"
      ],
      "text/plain": [
       "            user_id         label        dmp_id\n",
       "count  2.645958e+06  2.645958e+06  2.645958e+06\n",
       "mean   3.112995e+06  1.456297e-02  1.395761e+00\n",
       "std    1.828262e+06  1.197952e-01  6.920480e-01\n",
       "min    1.000000e+00  0.000000e+00  1.000000e+00\n",
       "25%    1.526772e+06  0.000000e+00  1.000000e+00\n",
       "50%    3.062184e+06  0.000000e+00  1.000000e+00\n",
       "75%    4.721132e+06  0.000000e+00  2.000000e+00\n",
       "max    6.265402e+06  1.000000e+00  3.000000e+00"
      ]
     },
     "execution_count": 5,
     "metadata": {},
     "output_type": "execute_result"
    }
   ],
   "source": [
    "#（2）数据的基本情况：统计量\n",
    "data.describe()"
   ]
  },
  {
   "cell_type": "markdown",
   "id": "debf251d",
   "metadata": {},
   "source": [
    "#### 通过从数据类型和统计量来看：\n",
    " （1） 数据均是整数型，不存在字符串   \n",
    " （2） 不存在缺失值    \n",
    " （3） label,dmp_id不存在异常值  "
   ]
  },
  {
   "cell_type": "code",
   "execution_count": 6,
   "id": "9c5912fb",
   "metadata": {},
   "outputs": [
    {
     "data": {
      "text/plain": [
       "user_id    2410683\n",
       "label            2\n",
       "dmp_id           3\n",
       "dtype: int64"
      ]
     },
     "execution_count": 6,
     "metadata": {},
     "output_type": "execute_result"
    }
   ],
   "source": [
    "#（3）判断数据的重复情况：nunique() 可直接统计dataframe中每列的不同值的个数\n",
    "data.nunique()"
   ]
  },
  {
   "cell_type": "code",
   "execution_count": 7,
   "id": "ea969cfc",
   "metadata": {},
   "outputs": [
    {
     "data": {
      "text/html": [
       "<div>\n",
       "<style scoped>\n",
       "    .dataframe tbody tr th:only-of-type {\n",
       "        vertical-align: middle;\n",
       "    }\n",
       "\n",
       "    .dataframe tbody tr th {\n",
       "        vertical-align: top;\n",
       "    }\n",
       "\n",
       "    .dataframe thead th {\n",
       "        text-align: right;\n",
       "    }\n",
       "</style>\n",
       "<table border=\"1\" class=\"dataframe\">\n",
       "  <thead>\n",
       "    <tr style=\"text-align: right;\">\n",
       "      <th></th>\n",
       "      <th>user_id</th>\n",
       "      <th>label</th>\n",
       "      <th>dmp_id</th>\n",
       "    </tr>\n",
       "  </thead>\n",
       "  <tbody>\n",
       "    <tr>\n",
       "      <th>8529</th>\n",
       "      <td>1027</td>\n",
       "      <td>0</td>\n",
       "      <td>1</td>\n",
       "    </tr>\n",
       "    <tr>\n",
       "      <th>1485546</th>\n",
       "      <td>1027</td>\n",
       "      <td>0</td>\n",
       "      <td>1</td>\n",
       "    </tr>\n",
       "    <tr>\n",
       "      <th>1579415</th>\n",
       "      <td>1471</td>\n",
       "      <td>0</td>\n",
       "      <td>1</td>\n",
       "    </tr>\n",
       "    <tr>\n",
       "      <th>127827</th>\n",
       "      <td>1471</td>\n",
       "      <td>0</td>\n",
       "      <td>1</td>\n",
       "    </tr>\n",
       "    <tr>\n",
       "      <th>404862</th>\n",
       "      <td>2468</td>\n",
       "      <td>0</td>\n",
       "      <td>1</td>\n",
       "    </tr>\n",
       "    <tr>\n",
       "      <th>...</th>\n",
       "      <td>...</td>\n",
       "      <td>...</td>\n",
       "      <td>...</td>\n",
       "    </tr>\n",
       "    <tr>\n",
       "      <th>1382121</th>\n",
       "      <td>6264633</td>\n",
       "      <td>0</td>\n",
       "      <td>1</td>\n",
       "    </tr>\n",
       "    <tr>\n",
       "      <th>1382245</th>\n",
       "      <td>6264940</td>\n",
       "      <td>0</td>\n",
       "      <td>1</td>\n",
       "    </tr>\n",
       "    <tr>\n",
       "      <th>2575140</th>\n",
       "      <td>6264940</td>\n",
       "      <td>0</td>\n",
       "      <td>1</td>\n",
       "    </tr>\n",
       "    <tr>\n",
       "      <th>1382306</th>\n",
       "      <td>6265082</td>\n",
       "      <td>0</td>\n",
       "      <td>3</td>\n",
       "    </tr>\n",
       "    <tr>\n",
       "      <th>2575171</th>\n",
       "      <td>6265082</td>\n",
       "      <td>0</td>\n",
       "      <td>3</td>\n",
       "    </tr>\n",
       "  </tbody>\n",
       "</table>\n",
       "<p>25966 rows × 3 columns</p>\n",
       "</div>"
      ],
      "text/plain": [
       "         user_id  label  dmp_id\n",
       "8529        1027      0       1\n",
       "1485546     1027      0       1\n",
       "1579415     1471      0       1\n",
       "127827      1471      0       1\n",
       "404862      2468      0       1\n",
       "...          ...    ...     ...\n",
       "1382121  6264633      0       1\n",
       "1382245  6264940      0       1\n",
       "2575140  6264940      0       1\n",
       "1382306  6265082      0       3\n",
       "2575171  6265082      0       3\n",
       "\n",
       "[25966 rows x 3 columns]"
      ]
     },
     "execution_count": 7,
     "metadata": {},
     "output_type": "execute_result"
    }
   ],
   "source": [
    "#（3）上述结果发现，数据长度与用户数不一致，可能存在重复行，对此进行检验\n",
    "#duplicated()：对重复值标记\n",
    "data[data.duplicated(keep=False)].sort_values(by=[\"user_id\"])"
   ]
  },
  {
   "cell_type": "code",
   "execution_count": 8,
   "id": "43a3d7e6",
   "metadata": {},
   "outputs": [
    {
     "data": {
      "text/html": [
       "<div>\n",
       "<style scoped>\n",
       "    .dataframe tbody tr th:only-of-type {\n",
       "        vertical-align: middle;\n",
       "    }\n",
       "\n",
       "    .dataframe tbody tr th {\n",
       "        vertical-align: top;\n",
       "    }\n",
       "\n",
       "    .dataframe thead th {\n",
       "        text-align: right;\n",
       "    }\n",
       "</style>\n",
       "<table border=\"1\" class=\"dataframe\">\n",
       "  <thead>\n",
       "    <tr style=\"text-align: right;\">\n",
       "      <th></th>\n",
       "      <th>user_id</th>\n",
       "      <th>label</th>\n",
       "      <th>dmp_id</th>\n",
       "    </tr>\n",
       "  </thead>\n",
       "  <tbody>\n",
       "  </tbody>\n",
       "</table>\n",
       "</div>"
      ],
      "text/plain": [
       "Empty DataFrame\n",
       "Columns: [user_id, label, dmp_id]\n",
       "Index: []"
      ]
     },
     "execution_count": 8,
     "metadata": {},
     "output_type": "execute_result"
    }
   ],
   "source": [
    "#（3）删除重复数据&检查\n",
    "data = data.drop_duplicates()\n",
    "\n",
    "data[data.duplicated(keep = False)]"
   ]
  },
  {
   "cell_type": "markdown",
   "id": "1463cf39",
   "metadata": {},
   "source": [
    "#### （3）存在重复行的数据，已经成功剔除"
   ]
  },
  {
   "cell_type": "code",
   "execution_count": 9,
   "id": "afcba962",
   "metadata": {},
   "outputs": [
    {
     "data": {
      "text/plain": [
       "user_id    0\n",
       "label      0\n",
       "dmp_id     0\n",
       "dtype: int64"
      ]
     },
     "execution_count": 9,
     "metadata": {},
     "output_type": "execute_result"
    }
   ],
   "source": [
    "#（4）缺失值判断：\n",
    "data.isnull().sum()"
   ]
  },
  {
   "cell_type": "markdown",
   "id": "f49472d4",
   "metadata": {},
   "source": [
    "#### （4）不存在缺失值"
   ]
  },
  {
   "cell_type": "markdown",
   "id": "7735dcba",
   "metadata": {},
   "source": [
    "### 2.样本容量检验\n",
    "\n",
    "根据前面准备的工作中知道我们的最小样本量为3028，而目前获得的样本为200多万，远远超过预期。"
   ]
  },
  {
   "cell_type": "markdown",
   "id": "144f6e68",
   "metadata": {},
   "source": [
    "### 3.进行假设检验计算"
   ]
  },
  {
   "cell_type": "markdown",
   "id": "2c192a7f",
   "metadata": {},
   "source": [
    "#### （1）核心指标计算"
   ]
  },
  {
   "cell_type": "code",
   "execution_count": 10,
   "id": "901cda45",
   "metadata": {},
   "outputs": [
    {
     "name": "stdout",
     "output_type": "stream",
     "text": [
      "对照组点击率：P0=0.0126 \n",
      "策略一点击率：P1=0.0153 \n",
      "策略二点击率：P2=0.0262 \n"
     ]
    }
   ],
   "source": [
    "#不同策略下的点击率：\n",
    "P0=data[data[\"dmp_id\"] == 1][\"label\"].mean()\n",
    "P1=data[data[\"dmp_id\"] == 2][\"label\"].mean()\n",
    "P2=data[data[\"dmp_id\"] == 3][\"label\"].mean()\n",
    "\n",
    "print(\"对照组点击率：P0={:.4f} \".format(P0))\n",
    "print(\"策略一点击率：P1={:.4f} \".format(P1))\n",
    "print(\"策略二点击率：P2={:.4f} \".format(P2))"
   ]
  },
  {
   "cell_type": "markdown",
   "id": "6ab66a34",
   "metadata": {},
   "source": [
    "#### 通过计算发现，策略一提升了0.2%，策略二提升了1.3%。根据我们的假定，需要满足对点击率的提升1%个点，所以策略一失效，并对策略二进行检验"
   ]
  },
  {
   "cell_type": "markdown",
   "id": "8bdc5557",
   "metadata": {},
   "source": [
    "#### （2）构建假设检验&确定检验类型"
   ]
  },
  {
   "cell_type": "markdown",
   "id": "20019125",
   "metadata": {},
   "source": [
    "构建假设：  \n",
    "H0:营销策略二对用户点击没有显著提升，即p2<=p0  \n",
    "H1:营销策略二对用户点击有显著提升，即p2>p0\n",
    "                           \n",
    "检验方向：根据备择假设，确定为单侧反向检验                           \n",
    "\n",
    "检验类型：\n",
    "首先样本服从二项分布，独立的双样本，样本容量n>30,总体的均值和方程未知，采用Z检验\n",
    "检验统计量为：\n",
    "\n",
    "![](https://pic-stored.oss-cn-beijing.aliyuncs.com/image/QianJianTec1686215218480.png)\n",
    "其中，Pc为总和点击率（点击率的联合估计）   \n",
    "    \n"
   ]
  },
  {
   "cell_type": "markdown",
   "id": "9e9b8f48",
   "metadata": {},
   "source": [
    "#### (3)检验统计量的计算"
   ]
  },
  {
   "cell_type": "code",
   "execution_count": 11,
   "id": "994f384e",
   "metadata": {},
   "outputs": [
    {
     "name": "stdout",
     "output_type": "stream",
     "text": [
      "总和点击率：0.0145\n",
      "检验统计量z：-59.4417\n",
      "z_0.05：-1.6449\n"
     ]
    }
   ],
   "source": [
    "#方法一：公式计算\n",
    "# 用户数\n",
    "n_old = len(data[data.dmp_id == 1])  # 对照组\n",
    "n_new = len(data[data.dmp_id == 3])  # 策略二\n",
    "\n",
    "# 点击数\n",
    "c_old = len(data.loc[(data.dmp_id == 1) & (data.label == 1)])\n",
    "c_new = len(data.loc[(data.dmp_id == 3) & (data.label == 1)])\n",
    "\n",
    "# 计算点击率\n",
    "p_old = c_old / n_old\n",
    "p_new = c_new / n_new\n",
    "\n",
    "# 总和点击率（点击率的联合估计）\n",
    "p_c = (c_old + c_new) / (n_old + n_new)\n",
    "\n",
    "print(\"总和点击率：{:.4f}\".format(p_c))\n",
    "\n",
    "# 计算检验统计量z\n",
    "z = (p_old - p_new) / np.sqrt(p_c * (1 - p_c)*(1/n_old + 1/n_new))\n",
    "\n",
    "print(\"检验统计量z：{:.4f}\".format(z))\n",
    "\n",
    "\n",
    "# 查α=0.05对应的z分位数,注意备择假设是左尾（单侧）\n",
    "from scipy.stats import norm\n",
    "z_alpha = norm.ppf(0.05)\n",
    "# 若为双侧，则norm.ppf(0.05/2)\n",
    "print(\"z_0.05：{:.4f}\".format(z_alpha))"
   ]
  },
  {
   "cell_type": "markdown",
   "id": "740c227a",
   "metadata": {},
   "source": [
    "#### 根据假设检验，可知拒绝域为{z＜z_0.05} 而统计量z，落入拒绝域，则有理由拒绝原假设，认为在显著性水平为0.05时，策略二点击率的提升在统计上是显著的。"
   ]
  },
  {
   "cell_type": "code",
   "execution_count": 12,
   "id": "d894b9f6",
   "metadata": {},
   "outputs": [],
   "source": [
    "#方法二：python计算"
   ]
  },
  {
   "cell_type": "code",
   "execution_count": 14,
   "id": "74d21636",
   "metadata": {},
   "outputs": [
    {
     "name": "stdout",
     "output_type": "stream",
     "text": [
      "检验统计量z： -59.44168632985996 ，p值： 0.0\n"
     ]
    }
   ],
   "source": [
    "import statsmodels.stats.proportion as sp\n",
    "# alternative='smaller'代表左尾\n",
    "z_score, p = sp.proportions_ztest([c_old, c_new], [n_old,n_new], alternative = \"smaller\")\n",
    "print(\"检验统计量z：\",z_score,\"，p值：\", p)"
   ]
  },
  {
   "cell_type": "markdown",
   "id": "336d34ba",
   "metadata": {},
   "source": [
    "#### 这里的p值与拒绝域的检验方式是一致的，p<0.05，拒绝原假设。"
   ]
  },
  {
   "cell_type": "markdown",
   "id": "83d6831f",
   "metadata": {},
   "source": [
    "#### （4）效应量计算\n",
    "所谓的效应量主要衡量的是效应的大小，通俗的话即：P值代表的是统计学上的意义，而效应量是能反映实际上的意义。其本质就是把差异和相关性量化的过程。    \n",
    "常用的效应量有：Cohen'd，中文一般翻译作科恩d值：\n",
    "\n",
    "$$d=\\frac{\\left(\\text { 样本平均值 }_{1}-\\text { 样本平均值 }_{2}\\right)}{\\text { 标准差 }}$$\n",
    "\n",
    "这里的标准差，由于是双独立样本的，需要用合并标准差（pooled standard deviations）代替。也就是以合并标准差为单位，计算两个样本平均值之间相差多少。双独立样本的合并标准差可以如下计算：\n",
    "$$s=\\sqrt{\\frac{\\left(\\left(n_{1}-1\\right) \\times s_{1}^{2}+\\left(n_{2}-1\\right) \\times s_{2}^{2}\\right)}{n_{1}+n_{2}-2}}$$"
   ]
  },
  {
   "cell_type": "code",
   "execution_count": 19,
   "id": "94037d08",
   "metadata": {},
   "outputs": [
    {
     "name": "stdout",
     "output_type": "stream",
     "text": [
      "对照组样本标准差：0.1113\n",
      "策略二样本标准差：0.1597\n",
      "Cohen's d为：：-0.1142\n"
     ]
    }
   ],
   "source": [
    "# 合并标准差\n",
    "std_old = data[data.dmp_id ==1].label.std()\n",
    "std_new = data[data.dmp_id ==3].label.std()\n",
    "s = np.sqrt(((n_old - 1)* std_old**2 + (n_new - 1)* std_new**2 ) / (n_old + n_new - 2))\n",
    "# 效应量Cohen's d\n",
    "d = (p_old - p_new) / s\n",
    "print(\"对照组样本标准差：{:.4f}\".format(std_old))\n",
    "print(\"策略二样本标准差：{:.4f}\".format(std_new))\n",
    "print(\"Cohen\\'s d为：：{:.4f}\".format(d))"
   ]
  },
  {
   "cell_type": "markdown",
   "id": "498d0e5b",
   "metadata": {},
   "source": [
    "#### 一般上baiCohen's d取值0.2-0.5为小效应，0.5-0.8中等效应，0.8以上为大效应。计算出为-0.0114，可见效应量较小。"
   ]
  },
  {
   "cell_type": "markdown",
   "id": "c3afe33d",
   "metadata": {},
   "source": [
    "# 三、输出分析结论"
   ]
  },
  {
   "cell_type": "markdown",
   "id": "5f6e1b36",
   "metadata": {},
   "source": [
    "#### 1.假设检验报告  \n",
    "\n",
    "（1）假定变量：a=0.05;   \n",
    "（2）计算结果：   \n",
    "    对照组：点击率P0=0.0126，标准差为：0.11   \n",
    "    策略二：点击率P2=0.0262，标准差为：0.16    \n",
    "    统计量：Z=-59.44 ，p=0 ； 单侧左尾检验，拒绝原假设   \n",
    "    效应量：Cohen's d=-0.11  数值较小    "
   ]
  },
  {
   "cell_type": "markdown",
   "id": "5cfbc233",
   "metadata": {},
   "source": [
    "#### 2.结论与建议\n",
    "通过A/B测试的方法，在两种营销策略中，仅只有策略二满足提升1%的要求。同时，策略二对广告点击率有显著的提升效果，从0.012提升到0.026提升一倍多，因此相比营销策略一，应该选择营销策略二进行推广"
   ]
  },
  {
   "cell_type": "code",
   "execution_count": null,
   "id": "c66afa8f",
   "metadata": {},
   "outputs": [],
   "source": []
  }
 ],
 "metadata": {
  "kernelspec": {
   "display_name": "Python 3 (ipykernel)",
   "language": "python",
   "name": "python3"
  },
  "language_info": {
   "codemirror_mode": {
    "name": "ipython",
    "version": 3
   },
   "file_extension": ".py",
   "mimetype": "text/x-python",
   "name": "python",
   "nbconvert_exporter": "python",
   "pygments_lexer": "ipython3",
   "version": "3.9.7"
  }
 },
 "nbformat": 4,
 "nbformat_minor": 5
}
